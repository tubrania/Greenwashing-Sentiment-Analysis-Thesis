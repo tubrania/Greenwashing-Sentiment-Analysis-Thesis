{
 "cells": [
  {
   "cell_type": "code",
   "execution_count": null,
   "id": "8176b59e",
   "metadata": {},
   "outputs": [],
   "source": [
    "import numpy as np\n",
    "import pandas as pd\n",
    "import matplotlib.pyplot as plt"
   ]
  },
  {
   "cell_type": "code",
   "execution_count": null,
   "id": "1ab60051",
   "metadata": {
    "scrolled": true
   },
   "outputs": [],
   "source": [
    "import pandas as pd\n",
    "import os\n",
    "\n",
    "def process_csv(file_path, result_df):\n",
    "    # Read CSV into a dataframe\n",
    "    df = pd.read_csv(file_path)\n",
    "\n",
    "    # Count values in the 'predictions' column\n",
    "    prediction_counts = df['predictions'].value_counts()\n",
    "\n",
    "    # Map prediction values to labels\n",
    "    prediction_labels = {0: 'Negative', 1: 'Neutral', 2: 'Positive'}\n",
    "    prediction_counts.index = prediction_counts.index.map(prediction_labels)\n",
    "\n",
    "    # Get the company name from the file name\n",
    "    file_name = os.path.basename(file_path)\n",
    "    company_name = file_name.split('_')[1]  # Assumes the company name is the second part of the file name\n",
    "\n",
    "    total = prediction_counts.get('Negative', 0) + prediction_counts.get('Neutral', 0) + prediction_counts.get('Positive', 0)\n",
    "    # Add information to the result dataframe\n",
    "    result_df = result_df.append({\n",
    "        'Company': company_name,\n",
    "        'Negative': prediction_counts.get('Negative', 0),\n",
    "        'Neutral': prediction_counts.get('Neutral', 0),\n",
    "        'Positive': prediction_counts.get('Positive', 0),\n",
    "        'total': total,\n",
    "    }, ignore_index=True)\n",
    "\n",
    "    return result_df  # Return the updated dataframe\n",
    "\n",
    "# Specify the folder containing CSV files\n",
    "folder_path = '../../Data/News sentences/news_2020'\n",
    "\n",
    "# Initialize an empty dataframe to store the results\n",
    "all_results_df = pd.DataFrame(columns=['Company', 'Negative', 'Neutral', 'Positive'])\n",
    "\n",
    "# Iterate through CSV files in the folder\n",
    "for filename in os.listdir(folder_path):\n",
    "    if filename.endswith('.csv'):\n",
    "        file_path = os.path.join(folder_path, filename)\n",
    "        all_results_df = process_csv(file_path, all_results_df)  # Assign the updated dataframe back\n",
    "\n",
    "# Save the aggregated results \n",
    "result_2020 = all_results_df\n"
   ]
  },
  {
   "cell_type": "code",
   "execution_count": null,
   "id": "fcb0992e",
   "metadata": {},
   "outputs": [],
   "source": [
    "import pandas as pd\n",
    "import os\n",
    "\n",
    "def process_csv(file_path, result_df):\n",
    "    # Read CSV into a dataframe\n",
    "    df = pd.read_csv(file_path)\n",
    "\n",
    "    # Count values in the 'predictions' column\n",
    "    prediction_counts = df['predictions'].value_counts()\n",
    "\n",
    "    # Map prediction values to labels\n",
    "    prediction_labels = {0: 'Negative', 1: 'Neutral', 2: 'Positive'}\n",
    "    prediction_counts.index = prediction_counts.index.map(prediction_labels)\n",
    "\n",
    "    # Get the company name from the file name\n",
    "    file_name = os.path.basename(file_path)\n",
    "    company_name = file_name.split('_')[1]  # Assumes the company name is the second part of the file name\n",
    "\n",
    "    total = prediction_counts.get('Negative', 0) + prediction_counts.get('Neutral', 0) + prediction_counts.get('Positive', 0)\n",
    "    # Add information to the result dataframe\n",
    "    result_df = result_df.append({\n",
    "        'Company': company_name,\n",
    "        'Negative': prediction_counts.get('Negative', 0),\n",
    "        'Neutral': prediction_counts.get('Neutral', 0),\n",
    "        'Positive': prediction_counts.get('Positive', 0),\n",
    "        'total': total,\n",
    "    }, ignore_index=True)\n",
    "\n",
    "    return result_df  # Return the updated dataframe\n",
    "\n",
    "# Specify the folder containing CSV files\n",
    "folder_path = '../../Data/News sentences/news_2021'\n",
    "\n",
    "# Initialize an empty dataframe to store the results\n",
    "all_results_df = pd.DataFrame(columns=['Company', 'Negative', 'Neutral', 'Positive'])\n",
    "\n",
    "# Iterate through CSV files in the folder\n",
    "for filename in os.listdir(folder_path):\n",
    "    if filename.endswith('.csv'):\n",
    "        file_path = os.path.join(folder_path, filename)\n",
    "        all_results_df = process_csv(file_path, all_results_df)  # Assign the updated dataframe back\n",
    "\n",
    "# Save the aggregated results \n",
    "result_2021 = all_results_df\n"
   ]
  },
  {
   "cell_type": "code",
   "execution_count": null,
   "id": "7098d070",
   "metadata": {},
   "outputs": [],
   "source": [
    "import pandas as pd\n",
    "\n",
    "def calculate_sentiment(input_df):\n",
    "    # Create a new DataFrame with 'Company' column\n",
    "    output_df = pd.DataFrame(input_df['Company'])\n",
    "\n",
    "    # Compare 'Negative' and 'Positive' columns and assign 'Sentiment'\n",
    "    output_df['Sentiment'] = input_df.apply(lambda row: 'positive' if (row['Positive']  > row['Negative']  ) else 'negative', axis=1)\n",
    "\n",
    "    return output_df"
   ]
  },
  {
   "cell_type": "code",
   "execution_count": null,
   "id": "67049754",
   "metadata": {},
   "outputs": [],
   "source": [
    "sentiment_2020 = calculate_sentiment(result_2020)\n",
    "sentiment_2021 = calculate_sentiment(result_2021)"
   ]
  }
 ],
 "metadata": {
  "kernelspec": {
   "display_name": "Python 3 (ipykernel)",
   "language": "python",
   "name": "python3"
  },
  "language_info": {
   "codemirror_mode": {
    "name": "ipython",
    "version": 3
   },
   "file_extension": ".py",
   "mimetype": "text/x-python",
   "name": "python",
   "nbconvert_exporter": "python",
   "pygments_lexer": "ipython3",
   "version": "3.9.17"
  }
 },
 "nbformat": 4,
 "nbformat_minor": 5
}
